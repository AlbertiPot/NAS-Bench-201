{
 "cells": [
  {
   "cell_type": "code",
   "execution_count": 1,
   "metadata": {},
   "outputs": [],
   "source": [
    "from nas_201_api import NASBench201API as API\n",
    "\n",
    "api = API('./data/NAS-Bench-201-v1_1-096897.pth', verbose=False)"
   ]
  },
  {
   "cell_type": "code",
   "execution_count": 107,
   "metadata": {},
   "outputs": [
    {
     "name": "stdout",
     "output_type": "stream",
     "text": [
      "81.98266665690103\n",
      "85.86333333333334\n",
      "52.70000000406901\n",
      "52.913333294677734\n",
      "28.211111075507272\n",
      "26.633333287556965\n"
     ]
    }
   ],
   "source": [
    "index = 0\n",
    "cifar10_valid_dict = api.get_more_info(index, 'cifar10-valid', 199, hp='200', is_random=False)\n",
    "cifar10_dict = api.get_more_info(index, 'cifar10', 199, hp='200', is_random=False)  \n",
    "cifar10_val_acc = cifar10_valid_dict['valid-accuracy']\n",
    "cifar10_test_acc = cifar10_dict['test-accuracy']\n",
    "print(cifar10_val_acc)\n",
    "print(cifar10_test_acc)\n",
    "\n",
    "\n",
    "cifar100_dict = api.get_more_info(index, 'cifar100', 199, hp='200', is_random=False)\n",
    "cifar100_dict_val_acc = cifar100_dict['valid-accuracy']\n",
    "cifar100_dict_test_acc = cifar100_dict['test-accuracy']\n",
    "print(cifar100_dict_val_acc)\n",
    "print(cifar100_dict_test_acc)\n",
    "\n",
    "imagenat16_dict = api.get_more_info(index, 'ImageNet16-120', 199, hp='200', is_random=False)\n",
    "imagenat16_val_acc = imagenat16_dict['valid-accuracy']\n",
    "imagenat16_test_acc = imagenat16_dict['test-accuracy']\n",
    "print(imagenat16_val_acc)\n",
    "print(imagenat16_test_acc)\n"
   ]
  },
  {
   "cell_type": "code",
   "execution_count": 108,
   "metadata": {},
   "outputs": [
    {
     "name": "stdout",
     "output_type": "stream",
     "text": [
      "15.64737 0.129306 0.0139359758611311\n",
      "15.65322 0.135156 0.013182918230692545\n",
      "3.91948 0.136456 0.012976543108622235\n"
     ]
    }
   ],
   "source": [
    "info = api.query_meta_info_by_index(index, '200')\n",
    "\n",
    "cifar10_cost_metrics = info.get_compute_costs('cifar10-valid')\n",
    "cifar10_flops = cifar10_cost_metrics['flops']\n",
    "cifar10_params = cifar10_cost_metrics['params']\n",
    "cifar10_latency = cifar10_cost_metrics['latency']\n",
    "print(cifar10_flops, cifar10_params, cifar10_latency)\n",
    "\n",
    "cifar100_cost_metrics = info.get_compute_costs('cifar100')\n",
    "cifar100_flops = cifar100_cost_metrics['flops']\n",
    "cifar100_params = cifar100_cost_metrics['params']\n",
    "cifar100_latency = cifar100_cost_metrics['latency']\n",
    "print(cifar100_flops, cifar100_params, cifar100_latency)\n",
    "\n",
    "image16_cost_metrics = info.get_compute_costs('ImageNet16-120')\n",
    "image16_flops = image16_cost_metrics['flops']\n",
    "image16_params = image16_cost_metrics['params']\n",
    "image16_latency = image16_cost_metrics['latency']\n",
    "print(image16_flops, image16_params, image16_latency)\n"
   ]
  },
  {
   "cell_type": "code",
   "execution_count": 99,
   "metadata": {
    "scrolled": false
   },
   "outputs": [
    {
     "name": "stdout",
     "output_type": "stream",
     "text": [
      "{'name': 'infer.tiny', 'C': 16, 'N': 5, 'arch_str': '|skip_connect~0|+|skip_connect~0|nor_conv_1x1~1|+|skip_connect~0|skip_connect~1|nor_conv_1x1~2|', 'num_classes': 10}\n"
     ]
    },
    {
     "name": "stderr",
     "output_type": "stream",
     "text": [
      "Unsupported operator aten::add encountered 92 time(s)\n",
      "Unsupported operator aten::avg_pool2d encountered 2 time(s)\n",
      "The following submodules of the model were never called during the trace of the graph. They may be unused, or they were accessed by direct calls to .forward() or via other python methods. In the latter case they will have zeros for statistics, though their statistics will still contribute to their parent calling module.\n",
      "cells.0.layers.0, cells.0.layers.1, cells.0.layers.3, cells.0.layers.4, cells.1.layers.0, cells.1.layers.1, cells.1.layers.3, cells.1.layers.4, cells.10.layers.0, cells.10.layers.1, cells.10.layers.3, cells.10.layers.4, cells.12.layers.0, cells.12.layers.1, cells.12.layers.3, cells.12.layers.4, cells.13.layers.0, cells.13.layers.1, cells.13.layers.3, cells.13.layers.4, cells.14.layers.0, cells.14.layers.1, cells.14.layers.3, cells.14.layers.4, cells.15.layers.0, cells.15.layers.1, cells.15.layers.3, cells.15.layers.4, cells.16.layers.0, cells.16.layers.1, cells.16.layers.3, cells.16.layers.4, cells.2.layers.0, cells.2.layers.1, cells.2.layers.3, cells.2.layers.4, cells.3.layers.0, cells.3.layers.1, cells.3.layers.3, cells.3.layers.4, cells.4.layers.0, cells.4.layers.1, cells.4.layers.3, cells.4.layers.4, cells.6.layers.0, cells.6.layers.1, cells.6.layers.3, cells.6.layers.4, cells.7.layers.0, cells.7.layers.1, cells.7.layers.3, cells.7.layers.4, cells.8.layers.0, cells.8.layers.1, cells.8.layers.3, cells.8.layers.4, cells.9.layers.0, cells.9.layers.1, cells.9.layers.3, cells.9.layers.4\n"
     ]
    },
    {
     "name": "stdout",
     "output_type": "stream",
     "text": [
      "16315008\n",
      "| module                   | #parameters or shape   | #flops    |\n",
      "|:-------------------------|:-----------------------|:----------|\n",
      "| model                    | 0.129M                 | 16.315M   |\n",
      "|  stem                    |  0.464K                |  0.475M   |\n",
      "|   stem.0                 |   0.432K               |   0.442M  |\n",
      "|    stem.0.weight         |    (16, 3, 3, 3)       |           |\n",
      "|   stem.1                 |   32                   |   32.768K |\n",
      "|    stem.1.weight         |    (16,)               |           |\n",
      "|    stem.1.bias           |    (16,)               |           |\n",
      "|  cells                   |  0.128M                |  15.827M  |\n",
      "|   cells.0.layers         |   0.576K               |   0.59M   |\n",
      "|    cells.0.layers.2.op   |    0.288K              |    0.295M |\n",
      "|    cells.0.layers.5.op   |    0.288K              |    0.295M |\n",
      "|   cells.1.layers         |   0.576K               |   0.59M   |\n",
      "|    cells.1.layers.2.op   |    0.288K              |    0.295M |\n",
      "|    cells.1.layers.5.op   |    0.288K              |    0.295M |\n",
      "|   cells.2.layers         |   0.576K               |   0.59M   |\n",
      "|    cells.2.layers.2.op   |    0.288K              |    0.295M |\n",
      "|    cells.2.layers.5.op   |    0.288K              |    0.295M |\n",
      "|   cells.3.layers         |   0.576K               |   0.59M   |\n",
      "|    cells.3.layers.2.op   |    0.288K              |    0.295M |\n",
      "|    cells.3.layers.5.op   |    0.288K              |    0.295M |\n",
      "|   cells.4.layers         |   0.576K               |   0.59M   |\n",
      "|    cells.4.layers.2.op   |    0.288K              |    0.295M |\n",
      "|    cells.4.layers.5.op   |    0.288K              |    0.295M |\n",
      "|   cells.5                |   14.464K              |   3.703M  |\n",
      "|    cells.5.conv_a.op     |    4.672K              |    1.196M |\n",
      "|    cells.5.conv_b.op     |    9.28K               |    2.376M |\n",
      "|    cells.5.downsample.1  |    0.512K              |    0.131M |\n",
      "|   cells.6.layers         |   2.176K               |   0.557M  |\n",
      "|    cells.6.layers.2.op   |    1.088K              |    0.279M |\n",
      "|    cells.6.layers.5.op   |    1.088K              |    0.279M |\n",
      "|   cells.7.layers         |   2.176K               |   0.557M  |\n",
      "|    cells.7.layers.2.op   |    1.088K              |    0.279M |\n",
      "|    cells.7.layers.5.op   |    1.088K              |    0.279M |\n",
      "|   cells.8.layers         |   2.176K               |   0.557M  |\n",
      "|    cells.8.layers.2.op   |    1.088K              |    0.279M |\n",
      "|    cells.8.layers.5.op   |    1.088K              |    0.279M |\n",
      "|   cells.9.layers         |   2.176K               |   0.557M  |\n",
      "|    cells.9.layers.2.op   |    1.088K              |    0.279M |\n",
      "|    cells.9.layers.5.op   |    1.088K              |    0.279M |\n",
      "|   cells.10.layers        |   2.176K               |   0.557M  |\n",
      "|    cells.10.layers.2.op  |    1.088K              |    0.279M |\n",
      "|    cells.10.layers.5.op  |    1.088K              |    0.279M |\n",
      "|   cells.11               |   57.6K                |   3.686M  |\n",
      "|    cells.11.conv_a.op    |    18.56K              |    1.188M |\n",
      "|    cells.11.conv_b.op    |    36.992K             |    2.367M |\n",
      "|    cells.11.downsample.1 |    2.048K              |    0.131M |\n",
      "|   cells.12.layers        |   8.448K               |   0.541M  |\n",
      "|    cells.12.layers.2.op  |    4.224K              |    0.27M  |\n",
      "|    cells.12.layers.5.op  |    4.224K              |    0.27M  |\n",
      "|   cells.13.layers        |   8.448K               |   0.541M  |\n",
      "|    cells.13.layers.2.op  |    4.224K              |    0.27M  |\n",
      "|    cells.13.layers.5.op  |    4.224K              |    0.27M  |\n",
      "|   cells.14.layers        |   8.448K               |   0.541M  |\n",
      "|    cells.14.layers.2.op  |    4.224K              |    0.27M  |\n",
      "|    cells.14.layers.5.op  |    4.224K              |    0.27M  |\n",
      "|   cells.15.layers        |   8.448K               |   0.541M  |\n",
      "|    cells.15.layers.2.op  |    4.224K              |    0.27M  |\n",
      "|    cells.15.layers.5.op  |    4.224K              |    0.27M  |\n",
      "|   cells.16.layers        |   8.448K               |   0.541M  |\n",
      "|    cells.16.layers.2.op  |    4.224K              |    0.27M  |\n",
      "|    cells.16.layers.5.op  |    4.224K              |    0.27M  |\n",
      "|  lastact.0               |  0.128K                |  8.192K   |\n",
      "|   lastact.0.weight       |   (64,)                |           |\n",
      "|   lastact.0.bias         |   (64,)                |           |\n",
      "|  classifier              |  0.65K                 |  0.64K    |\n",
      "|   classifier.weight      |   (10, 64)             |           |\n",
      "|   classifier.bias        |   (10,)                |           |\n",
      "|  global_pooling          |                        |  4.096K   |\n"
     ]
    }
   ],
   "source": [
    "from xautodl.models import get_cell_based_tiny_net\n",
    "\n",
    "index = 4\n",
    "cifar10_config = api.get_net_config(index,'cifar10-valid')\n",
    "print(cifar10_config)\n",
    "cifar10_network = get_cell_based_tiny_net(cifar10_config)\n",
    "\n",
    "from fvcore.nn import FlopCountAnalysis, flop_count_table, flop_count_str, parameter_count, parameter_count_table\n",
    "import torch\n",
    "inputs = torch.randn(1,3,32,32)\n",
    "cifar10_network.eval()\n",
    "flops = FlopCountAnalysis(cifar10_network, inputs)\n",
    "print(flops.total())\n",
    "# print(flops.by_module())\n",
    "print(flop_count_table(flops))\n",
    "# print(flop_count_str(flops))"
   ]
  },
  {
   "cell_type": "code",
   "execution_count": 103,
   "metadata": {
    "scrolled": false
   },
   "outputs": [
    {
     "name": "stdout",
     "output_type": "stream",
     "text": [
      "[(('skip_connect', 0),), (('skip_connect', 0), ('nor_conv_1x1', 1)), (('skip_connect', 0), ('skip_connect', 1), ('nor_conv_1x1', 2))]\n",
      "[[1, 0], [1, 0], [2, 1], [1, 0], [1, 1], [2, 2]]\n",
      "[0, 1, 2, 3, 4, 6, 7, 8, 9, 10, 12, 13, 14, 15, 16]\n",
      "6\n",
      "[0, 0, 294912, 0, 0, 294912]\n",
      "[0, 0, 288, 0, 0, 288]\n",
      "[0, 0, 294912, 0, 0, 294912]\n",
      "[0, 0, 288, 0, 0, 288]\n",
      "[0, 0, 294912, 0, 0, 294912]\n",
      "[0, 0, 288, 0, 0, 288]\n",
      "[0, 0, 294912, 0, 0, 294912]\n",
      "[0, 0, 288, 0, 0, 288]\n",
      "[0, 0, 294912, 0, 0, 294912]\n",
      "[0, 0, 288, 0, 0, 288]\n",
      "[0, 0, 278528, 0, 0, 278528]\n",
      "[0, 0, 1088, 0, 0, 1088]\n",
      "[0, 0, 278528, 0, 0, 278528]\n",
      "[0, 0, 1088, 0, 0, 1088]\n",
      "[0, 0, 278528, 0, 0, 278528]\n",
      "[0, 0, 1088, 0, 0, 1088]\n",
      "[0, 0, 278528, 0, 0, 278528]\n",
      "[0, 0, 1088, 0, 0, 1088]\n",
      "[0, 0, 278528, 0, 0, 278528]\n",
      "[0, 0, 1088, 0, 0, 1088]\n",
      "[0, 0, 270336, 0, 0, 270336]\n",
      "[0, 0, 4224, 0, 0, 4224]\n",
      "[0, 0, 270336, 0, 0, 270336]\n",
      "[0, 0, 4224, 0, 0, 4224]\n",
      "[0, 0, 270336, 0, 0, 270336]\n",
      "[0, 0, 4224, 0, 0, 4224]\n",
      "[0, 0, 270336, 0, 0, 270336]\n",
      "[0, 0, 4224, 0, 0, 4224]\n",
      "[0, 0, 270336, 0, 0, 270336]\n",
      "[0, 0, 4224, 0, 0, 4224]\n"
     ]
    },
    {
     "data": {
      "text/plain": [
       "129306"
      ]
     },
     "execution_count": 103,
     "metadata": {},
     "output_type": "execute_result"
    }
   ],
   "source": [
    "NODE_TYPE_DICT = {\n",
    "    \"none\": 0,\n",
    "    \"skip_connect\": 1,\n",
    "    \"nor_conv_1x1\": 2,\n",
    "    \"nor_conv_3x3\": 3,\n",
    "    \"avg_pool_3x3\": 4\n",
    "}\n",
    "\n",
    "extract_op = lambda item:[NODE_TYPE_DICT[item[0]],item[1]]\n",
    "opts = api.str2lists(cifar10_config['arch_str'])\n",
    "print(opts)\n",
    "# print(len(opts))\n",
    "cell_opts_list = []\n",
    "for node_op in opts:\n",
    "    for op in node_op:\n",
    "        cell_opts_list.append(extract_op(op))\n",
    "print(cell_opts_list)\n",
    "        \n",
    "N = cifar10_config['N']\n",
    "cells_idx_list = [i for i in range(N)] + [j+1+N for j in range(N)] + [k+2+2*N for k in range(N)]\n",
    "print(cells_idx_list)\n",
    "\n",
    "flops_dict = flops.by_module()\n",
    "params_dict = parameter_count(cifar10_network)\n",
    "\n",
    "print(len(cell_opts_list))\n",
    "for cell_idx in cells_idx_list:\n",
    "    cell_opt_flops = []\n",
    "    cell_opt_params = []\n",
    "    for opt_idx in range(len(cell_opts_list)):\n",
    "        key = 'cells.{}.layers.{}.op'.format(cell_idx, opt_idx)\n",
    "        cell_opt_flops.append(flops_dict[key])\n",
    "        cell_opt_params.append(params_dict[key])\n",
    "    print(cell_opt_flops)\n",
    "    print(cell_opt_params)\n",
    "\n",
    "parameter_count(cifar10_network)['']\n"
   ]
  },
  {
   "cell_type": "code",
   "execution_count": 57,
   "metadata": {},
   "outputs": [
    {
     "name": "stdout",
     "output_type": "stream",
     "text": [
      "[INFO] Register count_convNd() for <class 'torch.nn.modules.conv.Conv2d'>.\n",
      "[INFO] Register count_bn() for <class 'torch.nn.modules.batchnorm.BatchNorm2d'>.\n",
      "\u001b[91m[WARN] Cannot find rule for <class 'torch.nn.modules.container.Sequential'>. Treat it as zero Macs and zero Params.\u001b[00m\n",
      "[INFO] Register count_avgpool() for <class 'torch.nn.modules.pooling.AvgPool2d'>.\n",
      "\u001b[91m[WARN] Cannot find rule for <class 'xautodl.models.cell_operations.POOLING'>. Treat it as zero Macs and zero Params.\u001b[00m\n",
      "[INFO] Register zero_ops() for <class 'torch.nn.modules.activation.ReLU'>.\n",
      "\u001b[91m[WARN] Cannot find rule for <class 'xautodl.models.cell_operations.ReLUConvBN'>. Treat it as zero Macs and zero Params.\u001b[00m\n",
      "\u001b[91m[WARN] Cannot find rule for <class 'xautodl.models.cell_operations.Identity'>. Treat it as zero Macs and zero Params.\u001b[00m\n",
      "\u001b[91m[WARN] Cannot find rule for <class 'torch.nn.modules.container.ModuleList'>. Treat it as zero Macs and zero Params.\u001b[00m\n",
      "\u001b[91m[WARN] Cannot find rule for <class 'xautodl.models.cell_infers.cells.InferCell'>. Treat it as zero Macs and zero Params.\u001b[00m\n",
      "\u001b[91m[WARN] Cannot find rule for <class 'xautodl.models.cell_operations.ResNetBasicblock'>. Treat it as zero Macs and zero Params.\u001b[00m\n",
      "[INFO] Register count_adap_avgpool() for <class 'torch.nn.modules.pooling.AdaptiveAvgPool2d'>.\n",
      "[INFO] Register count_linear() for <class 'torch.nn.modules.linear.Linear'>.\n",
      "\u001b[91m[WARN] Cannot find rule for <class 'xautodl.models.cell_infers.tiny_network.TinyNetwork'>. Treat it as zero Macs and zero Params.\u001b[00m\n",
      "16.464576 0.129306\n",
      "Computational complexity:   16810634.0\n",
      "Number of parameters:   129306\n"
     ]
    }
   ],
   "source": [
    "from thop import profile\n",
    "import torch\n",
    "\n",
    "input = torch.randn(1,3,32,32)\n",
    "flops, params = profile(cifar10_network, inputs={input,})\n",
    "print(flops/1e6, params/1e6)\n",
    "\n",
    "\n",
    "from ptflops import get_model_complexity_info\n",
    "with torch.cuda.device(0):\n",
    "  macs, params = get_model_complexity_info(cifar10_network, (3, 32, 32), as_strings=False,\n",
    "                                           print_per_layer_stat=False, verbose=False)\n",
    "  print('{}  {}'.format('Computational complexity: ', macs))\n",
    "  print('{}  {}'.format('Number of parameters: ', params))"
   ]
  },
  {
   "cell_type": "code",
   "execution_count": 104,
   "metadata": {},
   "outputs": [
    {
     "name": "stdout",
     "output_type": "stream",
     "text": [
      "cifar10-valid\n",
      "cifar100\n",
      "ImageNet16-120\n"
     ]
    }
   ],
   "source": [
    "for network_type in ['cifar10-valid', 'cifar100', 'ImageNet16-120']:\n",
    "    print(network_type)"
   ]
  },
  {
   "cell_type": "code",
   "execution_count": 105,
   "metadata": {},
   "outputs": [
    {
     "data": {
      "text/plain": [
       "15625"
      ]
     },
     "execution_count": 105,
     "metadata": {},
     "output_type": "execute_result"
    }
   ],
   "source": [
    "len(api)"
   ]
  },
  {
   "cell_type": "code",
   "execution_count": null,
   "metadata": {},
   "outputs": [],
   "source": []
  }
 ],
 "metadata": {
  "interpreter": {
   "hash": "c4d229c0cbf1473bc8b165130977e45c7704cd07f60e7c7324b1f62c36056d5f"
  },
  "kernelspec": {
   "display_name": "Python 3",
   "language": "python",
   "name": "python3"
  },
  "language_info": {
   "codemirror_mode": {
    "name": "ipython",
    "version": 3
   },
   "file_extension": ".py",
   "mimetype": "text/x-python",
   "name": "python",
   "nbconvert_exporter": "python",
   "pygments_lexer": "ipython3",
   "version": "3.7.8"
  }
 },
 "nbformat": 4,
 "nbformat_minor": 2
}
