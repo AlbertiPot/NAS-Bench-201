{
 "cells": [
  {
   "cell_type": "code",
   "execution_count": 2,
   "metadata": {},
   "outputs": [],
   "source": [
    "from nas_201_api import NASBench201API as API\n",
    "\n",
    "api = API('./data/NAS-Bench-201-v1_1-096897.pth', verbose=False)"
   ]
  },
  {
   "cell_type": "code",
   "execution_count": 3,
   "metadata": {},
   "outputs": [
    {
     "name": "stdout",
     "output_type": "stream",
     "text": [
      "    0/15625 : |avg_pool_3x3~0|+|nor_conv_1x1~0|skip_connect~1|+|nor_conv_1x1~0|skip_connect~1|skip_connect~2|\n",
      "    1/15625 : |nor_conv_3x3~0|+|nor_conv_3x3~0|avg_pool_3x3~1|+|skip_connect~0|nor_conv_3x3~1|skip_connect~2|\n",
      "    2/15625 : |avg_pool_3x3~0|+|nor_conv_3x3~0|nor_conv_3x3~1|+|avg_pool_3x3~0|avg_pool_3x3~1|avg_pool_3x3~2|\n",
      "    3/15625 : |avg_pool_3x3~0|+|skip_connect~0|none~1|+|none~0|none~1|skip_connect~2|\n",
      "    4/15625 : |skip_connect~0|+|skip_connect~0|nor_conv_1x1~1|+|skip_connect~0|skip_connect~1|nor_conv_1x1~2|\n",
      "    5/15625 : |nor_conv_1x1~0|+|skip_connect~0|nor_conv_1x1~1|+|nor_conv_3x3~0|none~1|avg_pool_3x3~2|\n",
      "    6/15625 : |nor_conv_3x3~0|+|none~0|none~1|+|avg_pool_3x3~0|nor_conv_3x3~1|nor_conv_3x3~2|\n"
     ]
    }
   ],
   "source": [
    "num = len(api)\n",
    "for i, arch_str in enumerate(api):\n",
    "    print ('{:5d}/{:5d} : {:}'.format(i, len(api), arch_str))\n",
    "    if i > 5:\n",
    "        break"
   ]
  },
  {
   "cell_type": "code",
   "execution_count": 4,
   "metadata": {},
   "outputs": [
    {
     "name": "stdout",
     "output_type": "stream",
     "text": [
      ">>>>>>>>>>>>>>>>>>>>>>>>>>>>>>>>>>>>>>>> 012 epochs >>>>>>>>>>>>>>>>>>>>>>>>>>>>>>>>>>>>>>>>\n",
      "|avg_pool_3x3~0|+|nor_conv_1x1~0|skip_connect~1|+|nor_conv_1x1~0|skip_connect~1|skip_connect~2|\n",
      "datasets : ['cifar10-valid', 'cifar10', 'cifar100', 'ImageNet16-120'], extra-info : None\n",
      "cifar10-valid  FLOP= 15.65 M, Params=0.129 MB, latency=13.94 ms.\n",
      "cifar10-valid  train : [loss = 0.990, top1 = 64.45%], valid : [loss = 1.034, top1 = 63.36%]\n",
      "cifar10        FLOP= 15.65 M, Params=0.129 MB, latency=13.94 ms.\n",
      "cifar10        train : [loss = 0.818, top1 = 71.08%], test  : [loss = 0.865, top1 = 69.55%]\n",
      "cifar100       FLOP= 15.65 M, Params=0.135 MB, latency=13.18 ms.\n",
      "cifar100       train : [loss = 2.588, top1 = 33.09%], valid : [loss = 2.654, top1 = 31.84%], test : [loss = 2.656, top1 = 31.26%]\n",
      "ImageNet16-120 FLOP=  3.92 M, Params=0.136 MB, latency=12.98 ms.\n",
      "ImageNet16-120 train : [loss = 3.479, top1 = 17.66%], valid : [loss = 3.427, top1 = 18.47%], test : [loss = 3.475, top1 = 17.00%]\n",
      ">>>>>>>>>>>>>>>>>>>>>>>>>>>>>>>>>>>>>>>> 200 epochs >>>>>>>>>>>>>>>>>>>>>>>>>>>>>>>>>>>>>>>>\n",
      "|avg_pool_3x3~0|+|nor_conv_1x1~0|skip_connect~1|+|nor_conv_1x1~0|skip_connect~1|skip_connect~2|\n",
      "datasets : ['cifar10-valid', 'cifar10', 'cifar100', 'ImageNet16-120'], extra-info : None\n",
      "cifar10-valid  FLOP= 15.65 M, Params=0.129 MB, latency=13.94 ms.\n",
      "cifar10-valid  train : [loss = 0.319, top1 = 88.92%], valid : [loss = 0.566, top1 = 81.98%]\n",
      "cifar10        FLOP= 15.65 M, Params=0.129 MB, latency=13.94 ms.\n",
      "cifar10        train : [loss = 0.271, top1 = 90.67%], test  : [loss = 0.430, top1 = 85.86%]\n",
      "cifar100       FLOP= 15.65 M, Params=0.135 MB, latency=13.18 ms.\n",
      "cifar100       train : [loss = 1.511, top1 = 57.73%], valid : [loss = 1.742, top1 = 52.70%], test : [loss = 1.736, top1 = 52.91%]\n",
      "ImageNet16-120 FLOP=  3.92 M, Params=0.136 MB, latency=12.98 ms.\n",
      "ImageNet16-120 train : [loss = 2.925, top1 = 28.14%], valid : [loss = 2.944, top1 = 28.21%], test : [loss = 2.989, top1 = 26.63%]\n",
      "<<<<<<<<<<<<<<<<<<<<<<<<<<<<<<<<<<<<<<<<------------<<<<<<<<<<<<<<<<<<<<<<<<<<<<<<<<<<<<<<<<\n"
     ]
    }
   ],
   "source": [
    "# show all information for a specific architecture\n",
    "api.show(0)"
   ]
  },
  {
   "cell_type": "code",
   "execution_count": 5,
   "metadata": {},
   "outputs": [
    {
     "name": "stdout",
     "output_type": "stream",
     "text": [
      "{'iepoch': 199.0, 'loss': 0.2712514111582438, 'accuracy': 90.66866666666665, 'cur_time': 14.442185997962952, 'all_time': 2888.4371995925903}\n",
      "{'flops': 15.65322, 'params': 0.135156, 'latency': 0.013182918230692545, 'T-train@epoch': 14.442185997962952, 'T-train@total': 2888.4371995925903, 'T-ori-test@epoch': 1.019591694786435, 'T-ori-test@total': 203.91833895728698, 'T-x-valid@epoch': 0.5097958473932175, 'T-x-valid@total': 101.95916947864349, 'T-x-test@epoch': 0.5097958473932175, 'T-x-test@total': 101.95916947864349}\n"
     ]
    }
   ],
   "source": [
    "# show the mean loss and accuracy of an architecture\n",
    "info = api.query_meta_info_by_index(0, '200')  # This is an instance of `ArchResults`\n",
    "res_metrics = info.get_metrics('cifar10', 'train') # This is a dict with metric names as keys\n",
    "cost_metrics = info.get_compute_costs('cifar100') # This is a dict with metric names as keys, e.g., flops, params, latency\n",
    "print(res_metrics)\n",
    "print(cost_metrics)"
   ]
  },
  {
   "cell_type": "code",
   "execution_count": 6,
   "metadata": {},
   "outputs": [
    {
     "name": "stdout",
     "output_type": "stream",
     "text": [
      "There are 3 trials for this architecture [|nor_conv_3x3~0|+|nor_conv_3x3~0|avg_pool_3x3~1|+|skip_connect~0|nor_conv_3x3~1|skip_connect~2|] on cifar100\n",
      "Latency : 0.015363384176183631\n",
      "Train Info : {'iepoch': 199, 'loss': 0.048841832818984986, 'accuracy': 99.36, 'cur_time': 21.69641375541687, 'all_time': 4339.282751083374}\n",
      "Valid Info : {'iepoch': 199, 'loss': 1.353454900932312, 'accuracy': 70.2399999633789, 'cur_time': 0.7508397953850883, 'all_time': 150.1679590770175}\n",
      "Test  Info : {'iepoch': 199, 'loss': 1.3519501697540284, 'accuracy': 71.03999997558594, 'cur_time': 0.7508397953850883, 'all_time': 150.1679590770175}\n",
      "Train Info [10-th epoch] : {'iepoch': 10, 'loss': 1.6838061301422118, 'accuracy': 52.838, 'cur_time': 21.69641375541687, 'all_time': 238.66055130958557}\n",
      "Latency : 0.015363384176183631\n",
      "Train Info : {'iepoch': 199, 'loss': 0.04752695695877075, 'accuracy': 99.496, 'cur_time': 21.69641375541687, 'all_time': 4339.282751083374}\n",
      "Valid Info : {'iepoch': 199, 'loss': 1.3719735774993898, 'accuracy': 69.79999991455078, 'cur_time': 0.7508397953850883, 'all_time': 150.1679590770175}\n",
      "Test  Info : {'iepoch': 199, 'loss': 1.330240510559082, 'accuracy': 70.1600000366211, 'cur_time': 0.7508397953850883, 'all_time': 150.1679590770175}\n",
      "Train Info [10-th epoch] : {'iepoch': 10, 'loss': 1.7096083761596679, 'accuracy': 52.192, 'cur_time': 21.69641375541687, 'all_time': 238.66055130958557}\n",
      "Latency : 0.015363384176183631\n",
      "Train Info : {'iepoch': 199, 'loss': 0.04779369631052017, 'accuracy': 99.456, 'cur_time': 21.69641375541687, 'all_time': 4339.282751083374}\n",
      "Valid Info : {'iepoch': 199, 'loss': 1.3941243576049804, 'accuracy': 69.43999995117187, 'cur_time': 0.7508397953850883, 'all_time': 150.1679590770175}\n",
      "Test  Info : {'iepoch': 199, 'loss': 1.3700972333908081, 'accuracy': 69.67999989013671, 'cur_time': 0.7508397953850883, 'all_time': 150.1679590770175}\n",
      "Train Info [10-th epoch] : {'iepoch': 10, 'loss': 1.6944079693984986, 'accuracy': 52.63, 'cur_time': 21.69641375541687, 'all_time': 238.66055130958557}\n"
     ]
    }
   ],
   "source": [
    "# get the detailed information\n",
    "results = api.query_by_index(1, 'cifar100', '200') # a dict of all trials for 1st net on cifar100, where the key is the seed\n",
    "print ('There are {:} trials for this architecture [{:}] on cifar100'.format(len(results), api[1]))\n",
    "for seed, result in results.items():\n",
    "  print ('Latency : {:}'.format(result.get_latency()))\n",
    "  print ('Train Info : {:}'.format(result.get_train()))\n",
    "  print ('Valid Info : {:}'.format(result.get_eval('x-valid')))\n",
    "  print ('Test  Info : {:}'.format(result.get_eval('x-test')))\n",
    "  # for the metric after a specific epoch\n",
    "  print ('Train Info [10-th epoch] : {:}'.format(result.get_train(10)))"
   ]
  },
  {
   "cell_type": "code",
   "execution_count": 7,
   "metadata": {},
   "outputs": [
    {
     "name": "stdout",
     "output_type": "stream",
     "text": [
      ">>>>>>>>>>>>>>>>>>>>>>>>>>>>>>>>>>>>>>>> 012 epochs >>>>>>>>>>>>>>>>>>>>>>>>>>>>>>>>>>>>>>>>\n",
      "|nor_conv_3x3~0|+|nor_conv_3x3~0|avg_pool_3x3~1|+|skip_connect~0|nor_conv_3x3~1|skip_connect~2|\n",
      "datasets : ['cifar10-valid', 'cifar10', 'cifar100', 'ImageNet16-120'], extra-info : None\n",
      "cifar10-valid  FLOP=113.95 M, Params=0.802 MB, latency=16.85 ms.\n",
      "cifar10-valid  train : [loss = 0.382, top1 = 86.97%], valid : [loss = 0.514, top1 = 82.83%]\n",
      "cifar10        FLOP=113.95 M, Params=0.802 MB, latency=16.85 ms.\n",
      "cifar10        train : [loss = 0.243, top1 = 91.69%], test  : [loss = 0.362, top1 = 88.22%]\n",
      "cifar100       FLOP=113.96 M, Params=0.808 MB, latency=15.36 ms.\n",
      "cifar100       train : [loss = 1.271, top1 = 63.76%], valid : [loss = 1.495, top1 = 57.80%], test : [loss = 1.478, top1 = 58.26%]\n",
      "ImageNet16-120 FLOP= 28.50 M, Params=0.810 MB, latency=13.77 ms.\n",
      "ImageNet16-120 train : [loss = 2.548, top1 = 35.41%], valid : [loss = 2.580, top1 = 35.43%], test : [loss = 2.611, top1 = 33.80%]\n",
      ">>>>>>>>>>>>>>>>>>>>>>>>>>>>>>>>>>>>>>>> 200 epochs >>>>>>>>>>>>>>>>>>>>>>>>>>>>>>>>>>>>>>>>\n",
      "|nor_conv_3x3~0|+|nor_conv_3x3~0|avg_pool_3x3~1|+|skip_connect~0|nor_conv_3x3~1|skip_connect~2|\n",
      "datasets : ['cifar10-valid', 'cifar10', 'cifar100', 'ImageNet16-120'], extra-info : None\n",
      "cifar10-valid  FLOP=113.95 M, Params=0.802 MB, latency=16.85 ms.\n",
      "cifar10-valid  train : [loss = 0.002, top1 = 99.99%], valid : [loss = 0.439, top1 = 90.77%]\n",
      "cifar10        FLOP=113.95 M, Params=0.802 MB, latency=16.85 ms.\n",
      "cifar10        train : [loss = 0.002, top1 = 99.97%], test  : [loss = 0.300, top1 = 93.66%]\n",
      "cifar100       FLOP=113.96 M, Params=0.808 MB, latency=15.36 ms.\n",
      "cifar100       train : [loss = 0.048, top1 = 99.44%], valid : [loss = 1.373, top1 = 69.83%], test : [loss = 1.351, top1 = 70.29%]\n",
      "ImageNet16-120 FLOP= 28.50 M, Params=0.810 MB, latency=13.77 ms.\n",
      "ImageNet16-120 train : [loss = 1.459, top1 = 60.34%], valid : [loss = 2.230, top1 = 44.49%], test : [loss = 2.266, top1 = 44.03%]\n",
      "<<<<<<<<<<<<<<<<<<<<<<<<<<<<<<<<<<<<<<<<------------<<<<<<<<<<<<<<<<<<<<<<<<<<<<<<<<<<<<<<<<\n"
     ]
    }
   ],
   "source": [
    "index = api.query_index_by_arch('|nor_conv_3x3~0|+|nor_conv_3x3~0|avg_pool_3x3~1|+|skip_connect~0|nor_conv_3x3~1|skip_connect~2|')\n",
    "api.show(index)"
   ]
  },
  {
   "cell_type": "code",
   "execution_count": 9,
   "metadata": {},
   "outputs": [
    {
     "name": "stdout",
     "output_type": "stream",
     "text": [
      "{'name': 'infer.tiny', 'C': 16, 'N': 5, 'arch_str': '|avg_pool_3x3~0|+|avg_pool_3x3~0|nor_conv_1x1~1|+|none~0|avg_pool_3x3~1|nor_conv_3x3~2|', 'num_classes': 10}\n"
     ]
    },
    {
     "ename": "ModuleNotFoundError",
     "evalue": "No module named 'xautodl.models'",
     "output_type": "error",
     "traceback": [
      "\u001b[0;31m---------------------------------------------------------------------------\u001b[0m",
      "\u001b[0;31mModuleNotFoundError\u001b[0m                       Traceback (most recent call last)",
      "\u001b[0;32m<ipython-input-9-5dda803c9101>\u001b[0m in \u001b[0;36m<module>\u001b[0;34m\u001b[0m\n\u001b[1;32m      2\u001b[0m \u001b[0mprint\u001b[0m\u001b[0;34m(\u001b[0m\u001b[0mconfig\u001b[0m\u001b[0;34m)\u001b[0m\u001b[0;34m\u001b[0m\u001b[0;34m\u001b[0m\u001b[0m\n\u001b[1;32m      3\u001b[0m \u001b[0;32mfrom\u001b[0m \u001b[0mmodels\u001b[0m \u001b[0;32mimport\u001b[0m \u001b[0mget_cell_based_tiny_net\u001b[0m \u001b[0;31m# this module is in ./models\u001b[0m\u001b[0;34m\u001b[0m\u001b[0;34m\u001b[0m\u001b[0m\n\u001b[0;32m----> 4\u001b[0;31m \u001b[0mnetwork\u001b[0m \u001b[0;34m=\u001b[0m \u001b[0mget_cell_based_tiny_net\u001b[0m\u001b[0;34m(\u001b[0m\u001b[0mconfig\u001b[0m\u001b[0;34m)\u001b[0m \u001b[0;31m# create the network from configurration\u001b[0m\u001b[0;34m\u001b[0m\u001b[0;34m\u001b[0m\u001b[0m\n\u001b[0m\u001b[1;32m      5\u001b[0m \u001b[0mprint\u001b[0m\u001b[0;34m(\u001b[0m\u001b[0mnetwork\u001b[0m\u001b[0;34m)\u001b[0m \u001b[0;31m# show the structure of this architecture\u001b[0m\u001b[0;34m\u001b[0m\u001b[0;34m\u001b[0m\u001b[0m\n",
      "\u001b[0;32m~/workspace/NAS-Bench-201/models/__init__.py\u001b[0m in \u001b[0;36mget_cell_based_tiny_net\u001b[0;34m(config)\u001b[0m\n\u001b[1;32m     75\u001b[0m         )\n\u001b[1;32m     76\u001b[0m     \u001b[0;32melif\u001b[0m \u001b[0mconfig\u001b[0m\u001b[0;34m.\u001b[0m\u001b[0mname\u001b[0m \u001b[0;34m==\u001b[0m \u001b[0;34m\"infer.tiny\"\u001b[0m\u001b[0;34m:\u001b[0m\u001b[0;34m\u001b[0m\u001b[0;34m\u001b[0m\u001b[0m\n\u001b[0;32m---> 77\u001b[0;31m         \u001b[0;32mfrom\u001b[0m \u001b[0;34m.\u001b[0m\u001b[0mcell_infers\u001b[0m \u001b[0;32mimport\u001b[0m \u001b[0mTinyNetwork\u001b[0m\u001b[0;34m\u001b[0m\u001b[0;34m\u001b[0m\u001b[0m\n\u001b[0m\u001b[1;32m     78\u001b[0m \u001b[0;34m\u001b[0m\u001b[0m\n\u001b[1;32m     79\u001b[0m         \u001b[0;32mif\u001b[0m \u001b[0mhasattr\u001b[0m\u001b[0;34m(\u001b[0m\u001b[0mconfig\u001b[0m\u001b[0;34m,\u001b[0m \u001b[0;34m\"genotype\"\u001b[0m\u001b[0;34m)\u001b[0m\u001b[0;34m:\u001b[0m\u001b[0;34m\u001b[0m\u001b[0;34m\u001b[0m\u001b[0m\n",
      "\u001b[0;32m~/workspace/NAS-Bench-201/models/cell_infers/__init__.py\u001b[0m in \u001b[0;36m<module>\u001b[0;34m\u001b[0m\n\u001b[1;32m      2\u001b[0m \u001b[0;31m# Copyright (c) Xuanyi Dong [GitHub D-X-Y], 2019.01 #\u001b[0m\u001b[0;34m\u001b[0m\u001b[0;34m\u001b[0m\u001b[0;34m\u001b[0m\u001b[0m\n\u001b[1;32m      3\u001b[0m \u001b[0;31m#####################################################\u001b[0m\u001b[0;34m\u001b[0m\u001b[0;34m\u001b[0m\u001b[0;34m\u001b[0m\u001b[0m\n\u001b[0;32m----> 4\u001b[0;31m \u001b[0;32mfrom\u001b[0m \u001b[0;34m.\u001b[0m\u001b[0mtiny_network\u001b[0m \u001b[0;32mimport\u001b[0m \u001b[0mTinyNetwork\u001b[0m\u001b[0;34m\u001b[0m\u001b[0;34m\u001b[0m\u001b[0m\n\u001b[0m\u001b[1;32m      5\u001b[0m \u001b[0;32mfrom\u001b[0m \u001b[0;34m.\u001b[0m\u001b[0mnasnet_cifar\u001b[0m \u001b[0;32mimport\u001b[0m \u001b[0mNASNetonCIFAR\u001b[0m\u001b[0;34m\u001b[0m\u001b[0;34m\u001b[0m\u001b[0m\n",
      "\u001b[0;32m~/workspace/NAS-Bench-201/models/cell_infers/tiny_network.py\u001b[0m in \u001b[0;36m<module>\u001b[0;34m\u001b[0m\n\u001b[1;32m      4\u001b[0m \u001b[0;32mimport\u001b[0m \u001b[0mtorch\u001b[0m\u001b[0;34m.\u001b[0m\u001b[0mnn\u001b[0m \u001b[0;32mas\u001b[0m \u001b[0mnn\u001b[0m\u001b[0;34m\u001b[0m\u001b[0;34m\u001b[0m\u001b[0m\n\u001b[1;32m      5\u001b[0m \u001b[0;32mfrom\u001b[0m \u001b[0;34m.\u001b[0m\u001b[0;34m.\u001b[0m\u001b[0mcell_operations\u001b[0m \u001b[0;32mimport\u001b[0m \u001b[0mResNetBasicblock\u001b[0m\u001b[0;34m\u001b[0m\u001b[0;34m\u001b[0m\u001b[0m\n\u001b[0;32m----> 6\u001b[0;31m \u001b[0;32mfrom\u001b[0m \u001b[0;34m.\u001b[0m\u001b[0mcells\u001b[0m \u001b[0;32mimport\u001b[0m \u001b[0mInferCell\u001b[0m\u001b[0;34m\u001b[0m\u001b[0;34m\u001b[0m\u001b[0m\n\u001b[0m\u001b[1;32m      7\u001b[0m \u001b[0;34m\u001b[0m\u001b[0m\n\u001b[1;32m      8\u001b[0m \u001b[0;34m\u001b[0m\u001b[0m\n",
      "\u001b[0;32m~/workspace/NAS-Bench-201/models/cell_infers/cells.py\u001b[0m in \u001b[0;36m<module>\u001b[0;34m\u001b[0m\n\u001b[1;32m      7\u001b[0m \u001b[0;32mfrom\u001b[0m \u001b[0mcopy\u001b[0m \u001b[0;32mimport\u001b[0m \u001b[0mdeepcopy\u001b[0m\u001b[0;34m\u001b[0m\u001b[0;34m\u001b[0m\u001b[0m\n\u001b[1;32m      8\u001b[0m \u001b[0;34m\u001b[0m\u001b[0m\n\u001b[0;32m----> 9\u001b[0;31m \u001b[0;32mfrom\u001b[0m \u001b[0mxautodl\u001b[0m\u001b[0;34m.\u001b[0m\u001b[0mmodels\u001b[0m\u001b[0;34m.\u001b[0m\u001b[0mcell_operations\u001b[0m \u001b[0;32mimport\u001b[0m \u001b[0mOPS\u001b[0m\u001b[0;34m\u001b[0m\u001b[0;34m\u001b[0m\u001b[0m\n\u001b[0m\u001b[1;32m     10\u001b[0m \u001b[0;34m\u001b[0m\u001b[0m\n\u001b[1;32m     11\u001b[0m \u001b[0;34m\u001b[0m\u001b[0m\n",
      "\u001b[0;31mModuleNotFoundError\u001b[0m: No module named 'xautodl.models'"
     ]
    }
   ],
   "source": [
    "config = api.get_net_config(123, 'cifar10') # obtain the network configuration for the 123-th architecture on the CIFAR-10 dataset\n",
    "print(config)\n",
    "from xautodl.models import get_cell_based_tiny_net # this module is in ./models\n",
    "network = get_cell_based_tiny_net(config) # create the network from configurration\n",
    "print(network) # show the structure of this architecture"
   ]
  },
  {
   "cell_type": "code",
   "execution_count": null,
   "metadata": {},
   "outputs": [
    {
     "name": "stdout",
     "output_type": "stream",
     "text": [
      "<class 'xautodl.models.cell_infers.tiny_network.TinyNetwork'>\n"
     ]
    }
   ],
   "source": [
    "print(type(network))"
   ]
  },
  {
   "cell_type": "code",
   "execution_count": null,
   "metadata": {},
   "outputs": [],
   "source": []
  }
 ],
 "metadata": {
  "interpreter": {
   "hash": "c4d229c0cbf1473bc8b165130977e45c7704cd07f60e7c7324b1f62c36056d5f"
  },
  "kernelspec": {
   "display_name": "Python 3.7.8 64-bit ('rookie': conda)",
   "name": "python3"
  },
  "language_info": {
   "codemirror_mode": {
    "name": "ipython",
    "version": 3
   },
   "file_extension": ".py",
   "mimetype": "text/x-python",
   "name": "python",
   "nbconvert_exporter": "python",
   "pygments_lexer": "ipython3",
   "version": "3.7.8"
  },
  "orig_nbformat": 4
 },
 "nbformat": 4,
 "nbformat_minor": 2
}